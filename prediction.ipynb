{
 "cells": [
  {
   "cell_type": "code",
   "execution_count": 51,
   "id": "13aca864",
   "metadata": {},
   "outputs": [],
   "source": [
    "import tensorflow as tf\n",
    "from tensorflow.keras.models import load_model\n",
    "import pickle\n",
    "import pandas as pd\n",
    "import numpy as np\n",
    "import sklearn"
   ]
  },
  {
   "cell_type": "code",
   "execution_count": 52,
   "id": "cbc7a0e1",
   "metadata": {},
   "outputs": [],
   "source": [
    "## Load the trained model.h5, scaler pickle, onehot picke\n",
    "\n",
    "model=load_model('model.h5')\n",
    "\n",
    "##Load encoders and scalers\n",
    "\n",
    "with open('label_encoder_gender.pkl','rb') as file:\n",
    "    label_encoder_gender=pickle.load(file)\n",
    "\n",
    "with open('onehot_encoder_geo.pkl','rb') as file:\n",
    "    onehot=pickle.load(file)\n",
    "\n",
    "with open('scaler.pkl','rb') as file:\n",
    "    scaler=pickle.load(file)\n",
    "\n",
    "\n",
    "\n",
    "\n"
   ]
  },
  {
   "cell_type": "code",
   "execution_count": 53,
   "id": "e58b1fdd",
   "metadata": {},
   "outputs": [],
   "source": [
    "# Example input data\n",
    "input_data = {\n",
    "    'CreditScore': 600,\n",
    "    'Geography': 'France',\n",
    "    'Gender': 'Male',\n",
    "    'Age': 40,\n",
    "    'Tenure': 3,\n",
    "    'Balance': 60000,\n",
    "    'NumOfProducts': 2,\n",
    "    'HasCrCard': 1,\n",
    "    'IsActiveMember': 1,\n",
    "    'EstimatedSalary': 50000\n",
    "}"
   ]
  },
  {
   "cell_type": "code",
   "execution_count": 54,
   "id": "cc3fc5a0",
   "metadata": {},
   "outputs": [
    {
     "name": "stdout",
     "output_type": "stream",
     "text": [
      "[[1. 0. 0.]]\n"
     ]
    },
    {
     "name": "stderr",
     "output_type": "stream",
     "text": [
      "c:\\Users\\Harjeet Singh Pannu\\Desktop\\ANN project\\venv\\Lib\\site-packages\\sklearn\\utils\\validation.py:2749: UserWarning: X does not have valid feature names, but OneHotEncoder was fitted with feature names\n",
      "  warnings.warn(\n"
     ]
    },
    {
     "data": {
      "text/html": [
       "<div>\n",
       "<style scoped>\n",
       "    .dataframe tbody tr th:only-of-type {\n",
       "        vertical-align: middle;\n",
       "    }\n",
       "\n",
       "    .dataframe tbody tr th {\n",
       "        vertical-align: top;\n",
       "    }\n",
       "\n",
       "    .dataframe thead th {\n",
       "        text-align: right;\n",
       "    }\n",
       "</style>\n",
       "<table border=\"1\" class=\"dataframe\">\n",
       "  <thead>\n",
       "    <tr style=\"text-align: right;\">\n",
       "      <th></th>\n",
       "      <th>Geography_France</th>\n",
       "      <th>Geography_Germany</th>\n",
       "      <th>Geography_Spain</th>\n",
       "    </tr>\n",
       "  </thead>\n",
       "  <tbody>\n",
       "    <tr>\n",
       "      <th>0</th>\n",
       "      <td>1.0</td>\n",
       "      <td>0.0</td>\n",
       "      <td>0.0</td>\n",
       "    </tr>\n",
       "  </tbody>\n",
       "</table>\n",
       "</div>"
      ],
      "text/plain": [
       "   Geography_France  Geography_Germany  Geography_Spain\n",
       "0               1.0                0.0              0.0"
      ]
     },
     "execution_count": 54,
     "metadata": {},
     "output_type": "execute_result"
    }
   ],
   "source": [
    "geo_encoded=onehot.transform([[input_data['Geography']]])\n",
    "print(geo_encoded)\n",
    "geo_df=pd.DataFrame(geo_encoded,columns=onehot.get_feature_names_out(['Geography']))\n",
    "geo_df"
   ]
  },
  {
   "cell_type": "code",
   "execution_count": 55,
   "id": "502c6c0a",
   "metadata": {},
   "outputs": [
    {
     "data": {
      "text/html": [
       "<div>\n",
       "<style scoped>\n",
       "    .dataframe tbody tr th:only-of-type {\n",
       "        vertical-align: middle;\n",
       "    }\n",
       "\n",
       "    .dataframe tbody tr th {\n",
       "        vertical-align: top;\n",
       "    }\n",
       "\n",
       "    .dataframe thead th {\n",
       "        text-align: right;\n",
       "    }\n",
       "</style>\n",
       "<table border=\"1\" class=\"dataframe\">\n",
       "  <thead>\n",
       "    <tr style=\"text-align: right;\">\n",
       "      <th></th>\n",
       "      <th>CreditScore</th>\n",
       "      <th>Geography</th>\n",
       "      <th>Gender</th>\n",
       "      <th>Age</th>\n",
       "      <th>Tenure</th>\n",
       "      <th>Balance</th>\n",
       "      <th>NumOfProducts</th>\n",
       "      <th>HasCrCard</th>\n",
       "      <th>IsActiveMember</th>\n",
       "      <th>EstimatedSalary</th>\n",
       "    </tr>\n",
       "  </thead>\n",
       "  <tbody>\n",
       "    <tr>\n",
       "      <th>0</th>\n",
       "      <td>600</td>\n",
       "      <td>France</td>\n",
       "      <td>Male</td>\n",
       "      <td>40</td>\n",
       "      <td>3</td>\n",
       "      <td>60000</td>\n",
       "      <td>2</td>\n",
       "      <td>1</td>\n",
       "      <td>1</td>\n",
       "      <td>50000</td>\n",
       "    </tr>\n",
       "  </tbody>\n",
       "</table>\n",
       "</div>"
      ],
      "text/plain": [
       "   CreditScore Geography Gender  Age  Tenure  Balance  NumOfProducts  \\\n",
       "0          600    France   Male   40       3    60000              2   \n",
       "\n",
       "   HasCrCard  IsActiveMember  EstimatedSalary  \n",
       "0          1               1            50000  "
      ]
     },
     "execution_count": 55,
     "metadata": {},
     "output_type": "execute_result"
    }
   ],
   "source": [
    "input_df=pd.DataFrame([input_data]) ## Converting dictionary to dataframe (tabular)\n",
    "input_df\n"
   ]
  },
  {
   "cell_type": "code",
   "execution_count": 56,
   "id": "8e6ab458",
   "metadata": {},
   "outputs": [
    {
     "data": {
      "text/html": [
       "<div>\n",
       "<style scoped>\n",
       "    .dataframe tbody tr th:only-of-type {\n",
       "        vertical-align: middle;\n",
       "    }\n",
       "\n",
       "    .dataframe tbody tr th {\n",
       "        vertical-align: top;\n",
       "    }\n",
       "\n",
       "    .dataframe thead th {\n",
       "        text-align: right;\n",
       "    }\n",
       "</style>\n",
       "<table border=\"1\" class=\"dataframe\">\n",
       "  <thead>\n",
       "    <tr style=\"text-align: right;\">\n",
       "      <th></th>\n",
       "      <th>CreditScore</th>\n",
       "      <th>Geography</th>\n",
       "      <th>Gender</th>\n",
       "      <th>Age</th>\n",
       "      <th>Tenure</th>\n",
       "      <th>Balance</th>\n",
       "      <th>NumOfProducts</th>\n",
       "      <th>HasCrCard</th>\n",
       "      <th>IsActiveMember</th>\n",
       "      <th>EstimatedSalary</th>\n",
       "    </tr>\n",
       "  </thead>\n",
       "  <tbody>\n",
       "    <tr>\n",
       "      <th>0</th>\n",
       "      <td>600</td>\n",
       "      <td>France</td>\n",
       "      <td>1</td>\n",
       "      <td>40</td>\n",
       "      <td>3</td>\n",
       "      <td>60000</td>\n",
       "      <td>2</td>\n",
       "      <td>1</td>\n",
       "      <td>1</td>\n",
       "      <td>50000</td>\n",
       "    </tr>\n",
       "  </tbody>\n",
       "</table>\n",
       "</div>"
      ],
      "text/plain": [
       "   CreditScore Geography  Gender  Age  Tenure  Balance  NumOfProducts  \\\n",
       "0          600    France       1   40       3    60000              2   \n",
       "\n",
       "   HasCrCard  IsActiveMember  EstimatedSalary  \n",
       "0          1               1            50000  "
      ]
     },
     "execution_count": 56,
     "metadata": {},
     "output_type": "execute_result"
    }
   ],
   "source": [
    "\n",
    "input_df['Gender']=label_encoder_gender.transform(input_df['Gender'])\n",
    "input_df"
   ]
  },
  {
   "cell_type": "code",
   "execution_count": 57,
   "id": "cae464b4",
   "metadata": {},
   "outputs": [],
   "source": [
    "# 🧠 Why we are NOT doing this for OneHotEncoder:\n",
    "# input_df['Geography'] = onehot.transform(...) ❌\n",
    "# ❌ Because:\n",
    "# - onehot.transform() returns a 2D array → e.g., [[0. 0. 1.]]\n",
    "# - But input_df['Geography'] is a 1D column → it expects only one value per row\n",
    "# - Trying to assign multiple values into a single column causes shape mismatch → ERROR!\n",
    "# - So, we can't overwrite the 'Geography' column directly like this.\n",
    "\n",
    "# ✅ What we do instead for OneHotEncoder:\n",
    "# - Step 1: Drop the original 'Geography' column from input_df (it has raw text like 'India', 'France')\n",
    "# - Step 2: geo_df is a DataFrame with new columns from the one-hot encoded values\n",
    "#     e.g., 'Geography_France', 'Geography_Germany', 'Geography_India' (each is 0 or 1)\n",
    "# - Step 3: Combine the updated input_df and geo_df horizontally using pd.concat(axis=1)\n",
    "#     This way, we preserve all the data, replace 'Geography' with its numeric version, and make the DataFrame ML-ready\n",
    "\n",
    "input_df = pd.concat([input_df.drop(\"Geography\", axis=1), geo_df], axis=1)\n",
    "\n",
    "# ✅ For LabelEncoder, direct assignment is OK:\n",
    "# LabelEncoder gives back a 1D array (just one value per row, like 0, 1, or 2)\n",
    "# So we can directly assign it back to a single column without any issues\n",
    "# Example:\n",
    "# If label_encoder_gender is already fitted, we can do:\n",
    "\n",
    "# 🎯 Summary:\n",
    "# - LabelEncoder = 1D → direct assignment works ✅\n",
    "# - OneHotEncoder = 2D → use concat after dropping the original column ✅"
   ]
  },
  {
   "cell_type": "code",
   "execution_count": 58,
   "id": "fdeea41e",
   "metadata": {},
   "outputs": [
    {
     "data": {
      "text/html": [
       "<div>\n",
       "<style scoped>\n",
       "    .dataframe tbody tr th:only-of-type {\n",
       "        vertical-align: middle;\n",
       "    }\n",
       "\n",
       "    .dataframe tbody tr th {\n",
       "        vertical-align: top;\n",
       "    }\n",
       "\n",
       "    .dataframe thead th {\n",
       "        text-align: right;\n",
       "    }\n",
       "</style>\n",
       "<table border=\"1\" class=\"dataframe\">\n",
       "  <thead>\n",
       "    <tr style=\"text-align: right;\">\n",
       "      <th></th>\n",
       "      <th>CreditScore</th>\n",
       "      <th>Gender</th>\n",
       "      <th>Age</th>\n",
       "      <th>Tenure</th>\n",
       "      <th>Balance</th>\n",
       "      <th>NumOfProducts</th>\n",
       "      <th>HasCrCard</th>\n",
       "      <th>IsActiveMember</th>\n",
       "      <th>EstimatedSalary</th>\n",
       "      <th>Geography_France</th>\n",
       "      <th>Geography_Germany</th>\n",
       "      <th>Geography_Spain</th>\n",
       "    </tr>\n",
       "  </thead>\n",
       "  <tbody>\n",
       "    <tr>\n",
       "      <th>0</th>\n",
       "      <td>600</td>\n",
       "      <td>1</td>\n",
       "      <td>40</td>\n",
       "      <td>3</td>\n",
       "      <td>60000</td>\n",
       "      <td>2</td>\n",
       "      <td>1</td>\n",
       "      <td>1</td>\n",
       "      <td>50000</td>\n",
       "      <td>1.0</td>\n",
       "      <td>0.0</td>\n",
       "      <td>0.0</td>\n",
       "    </tr>\n",
       "  </tbody>\n",
       "</table>\n",
       "</div>"
      ],
      "text/plain": [
       "   CreditScore  Gender  Age  Tenure  Balance  NumOfProducts  HasCrCard  \\\n",
       "0          600       1   40       3    60000              2          1   \n",
       "\n",
       "   IsActiveMember  EstimatedSalary  Geography_France  Geography_Germany  \\\n",
       "0               1            50000               1.0                0.0   \n",
       "\n",
       "   Geography_Spain  \n",
       "0              0.0  "
      ]
     },
     "execution_count": 58,
     "metadata": {},
     "output_type": "execute_result"
    }
   ],
   "source": [
    "input_df"
   ]
  },
  {
   "cell_type": "code",
   "execution_count": 59,
   "id": "94bbdb08",
   "metadata": {},
   "outputs": [
    {
     "data": {
      "text/plain": [
       "array([[-0.53598516,  0.91324755,  0.10479359, -0.69539349, -0.25781119,\n",
       "         0.80843615,  0.64920267,  0.97481699, -0.87683221,  1.00150113,\n",
       "        -0.57946723, -0.57638802]])"
      ]
     },
     "execution_count": 59,
     "metadata": {},
     "output_type": "execute_result"
    }
   ],
   "source": [
    "## Scaling the input data\n",
    "\n",
    "input_scaled=scaler.transform(input_df)\n",
    "input_scaled"
   ]
  },
  {
   "cell_type": "code",
   "execution_count": 60,
   "id": "4b5b780c",
   "metadata": {},
   "outputs": [
    {
     "name": "stdout",
     "output_type": "stream",
     "text": [
      "1/1 [==============================] - 0s 55ms/step\n"
     ]
    },
    {
     "data": {
      "text/plain": [
       "array([[0.03710573]], dtype=float32)"
      ]
     },
     "execution_count": 60,
     "metadata": {},
     "output_type": "execute_result"
    }
   ],
   "source": [
    "## Predict churn\n",
    "\n",
    "prediction=model.predict(input_scaled)\n",
    "prediction"
   ]
  },
  {
   "cell_type": "code",
   "execution_count": 61,
   "id": "15176a5e",
   "metadata": {},
   "outputs": [
    {
     "data": {
      "text/plain": [
       "0.03710573"
      ]
     },
     "execution_count": 61,
     "metadata": {},
     "output_type": "execute_result"
    }
   ],
   "source": [
    "pred_prob=prediction[0][0] ## multidimensional array\n",
    "pred_prob"
   ]
  },
  {
   "cell_type": "code",
   "execution_count": 62,
   "id": "5c44b565",
   "metadata": {},
   "outputs": [
    {
     "name": "stdout",
     "output_type": "stream",
     "text": [
      "Customer is not likely to churn\n"
     ]
    }
   ],
   "source": [
    "if pred_prob>0.5:\n",
    "    print(\"Customer is likely to churn\")\n",
    "else:\n",
    "    print(\"Customer is not likely to churn\")"
   ]
  },
  {
   "cell_type": "code",
   "execution_count": 63,
   "id": "c299a358",
   "metadata": {},
   "outputs": [],
   "source": [
    "# ❓ Is Customer Churn Prediction the same as Sentiment Analysis?\n",
    "# 🧠 Simple Answer: ❌ No, they are two very different things.\n",
    "\n",
    "# --------------------------------------------------------------------------------\n",
    "# 🔍 What is Customer Churn Prediction?\n",
    "# --------------------------------------------------------------------------------\n",
    "# 👉 \"Churn\" means a customer decides to leave or stop using a company's service.\n",
    "# 🚀 The goal here is to PREDICT whether a customer will stay or leave.\n",
    "\n",
    "# ✅ It is a MACHINE LEARNING classification problem.\n",
    "# ✅ We mostly use numerical or tabular data (not text).\n",
    "# Examples of input features:\n",
    "# - Gender\n",
    "# - Age\n",
    "# - Monthly charges\n",
    "# - Type of contract (e.g., prepaid, postpaid)\n",
    "# - Number of complaints\n",
    "# - Tenure (how long the customer has stayed)\n",
    "# ➡️ Based on these, the model predicts:\n",
    "#    - 0 = Customer stays\n",
    "#    - 1 = Customer leaves (churns)\n",
    "\n",
    "# 🛠️ Techniques used: Logistic Regression, Decision Trees, Random Forest, Neural Networks etc.\n",
    "\n",
    "# --------------------------------------------------------------------------------\n",
    "# 🔍 What is Sentiment Analysis?\n",
    "# --------------------------------------------------------------------------------\n",
    "# 👉 This is about detecting emotions or opinions from TEXT.\n",
    "# ✅ It is a Natural Language Processing (NLP) task.\n",
    "# ✅ Used to understand if a person is:\n",
    "#    - Happy (positive sentiment)\n",
    "#    - Angry or sad (negative sentiment)\n",
    "#    - Neutral (no strong emotion)\n",
    "# 🔡 Input data is in the form of:\n",
    "#    - Tweets\n",
    "#    - Reviews\n",
    "#    - Feedback messages\n",
    "#    - Comments\n",
    "\n",
    "# ➡️ The output is usually:\n",
    "#    - \"Positive\"\n",
    "#    - \"Negative\"\n",
    "#    - \"Neutral\"\n",
    "\n",
    "# 🛠️ Techniques used: Bag of Words, TF-IDF, Word Embeddings + classifiers\n",
    "\n",
    "# --------------------------------------------------------------------------------\n",
    "# 🧠 Summary Table:\n",
    "# --------------------------------------------------------------------------------\n",
    "# | Task                     | Input Type   | Goal                          | Field               |\n",
    "# |--------------------------|--------------|-------------------------------|---------------------|\n",
    "# | Customer Churn Prediction| Tabular Data | Predict if customer will leave| Machine Learning    |\n",
    "# | Sentiment Analysis       | Text Data    | Detect opinion/emotion        | NLP (Text Analysis) |\n",
    "\n",
    "# --------------------------------------------------------------------------------\n",
    "# ✅ Bonus Insight:\n",
    "# You CAN combine both — for example:\n",
    "# If a company receives a lot of negative complaints in text,\n",
    "# You could use Sentiment Analysis to extract negativity,\n",
    "# Then feed that into a Churn Prediction model to improve its accuracy.\n"
   ]
  },
  {
   "cell_type": "code",
   "execution_count": null,
   "id": "3ae20440",
   "metadata": {},
   "outputs": [],
   "source": []
  }
 ],
 "metadata": {
  "kernelspec": {
   "display_name": "Python 3",
   "language": "python",
   "name": "python3"
  },
  "language_info": {
   "codemirror_mode": {
    "name": "ipython",
    "version": 3
   },
   "file_extension": ".py",
   "mimetype": "text/x-python",
   "name": "python",
   "nbconvert_exporter": "python",
   "pygments_lexer": "ipython3",
   "version": "3.11.0"
  }
 },
 "nbformat": 4,
 "nbformat_minor": 5
}
